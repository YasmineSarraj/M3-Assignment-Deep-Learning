{
 "cells": [
  {
   "attachments": {},
   "cell_type": "markdown",
   "metadata": {},
   "source": [
    "### Import dependencies"
   ]
  },
  {
   "cell_type": "code",
   "execution_count": 47,
   "metadata": {},
   "outputs": [],
   "source": [
    "import torch\n",
    "import numpy as np\n",
    "import pandas as pd\n",
    "import torch.optim as optim\n",
    "from torch.utils.data import DataLoader, TensorDataset\n",
    "from sklearn.preprocessing import MinMaxScaler\n",
    "import matplotlib.pyplot as plt"
   ]
  },
  {
   "attachments": {},
   "cell_type": "markdown",
   "metadata": {},
   "source": [
    "### Import data"
   ]
  },
  {
   "cell_type": "code",
   "execution_count": 5,
   "metadata": {},
   "outputs": [
    {
     "name": "stdout",
     "output_type": "stream",
     "text": [
      "Downloading residential-power-usage-3years-data-timeseries.zip to c:\\Users\\nilso\\Documents\\Coding\\Data Science Class\\M3-Assignments-Deep-Learning\\Assignment 2\n",
      "\n"
     ]
    },
    {
     "name": "stderr",
     "output_type": "stream",
     "text": [
      "\n",
      "  0%|          | 0.00/227k [00:00<?, ?B/s]\n",
      "100%|██████████| 227k/227k [00:00<00:00, 2.51MB/s]\n"
     ]
    }
   ],
   "source": [
    "! kaggle datasets download -d srinuti/residential-power-usage-3years-data-timeseries "
   ]
  },
  {
   "cell_type": "code",
   "execution_count": 60,
   "metadata": {},
   "outputs": [],
   "source": [
    "df = pd.read_csv(\"data\\power_usage_2016_to_2020.csv\")"
   ]
  },
  {
   "attachments": {},
   "cell_type": "markdown",
   "metadata": {},
   "source": [
    "### Data cleaning"
   ]
  },
  {
   "cell_type": "code",
   "execution_count": 61,
   "metadata": {},
   "outputs": [
    {
     "name": "stdout",
     "output_type": "stream",
     "text": [
      "<class 'pandas.core.frame.DataFrame'>\n",
      "RangeIndex: 35952 entries, 0 to 35951\n",
      "Data columns (total 4 columns):\n",
      " #   Column       Non-Null Count  Dtype  \n",
      "---  ------       --------------  -----  \n",
      " 0   StartDate    35952 non-null  object \n",
      " 1   Value (kWh)  35952 non-null  float64\n",
      " 2   day_of_week  35952 non-null  int64  \n",
      " 3   notes        35952 non-null  object \n",
      "dtypes: float64(1), int64(1), object(2)\n",
      "memory usage: 1.1+ MB\n"
     ]
    }
   ],
   "source": [
    "df.info()"
   ]
  },
  {
   "cell_type": "code",
   "execution_count": 62,
   "metadata": {},
   "outputs": [
    {
     "data": {
      "text/html": [
       "<div>\n",
       "<style scoped>\n",
       "    .dataframe tbody tr th:only-of-type {\n",
       "        vertical-align: middle;\n",
       "    }\n",
       "\n",
       "    .dataframe tbody tr th {\n",
       "        vertical-align: top;\n",
       "    }\n",
       "\n",
       "    .dataframe thead th {\n",
       "        text-align: right;\n",
       "    }\n",
       "</style>\n",
       "<table border=\"1\" class=\"dataframe\">\n",
       "  <thead>\n",
       "    <tr style=\"text-align: right;\">\n",
       "      <th></th>\n",
       "      <th>StartDate</th>\n",
       "      <th>Value (kWh)</th>\n",
       "      <th>day_of_week</th>\n",
       "      <th>notes</th>\n",
       "    </tr>\n",
       "  </thead>\n",
       "  <tbody>\n",
       "    <tr>\n",
       "      <th>0</th>\n",
       "      <td>2016-01-06 00:00:00</td>\n",
       "      <td>1.057</td>\n",
       "      <td>2</td>\n",
       "      <td>weekday</td>\n",
       "    </tr>\n",
       "    <tr>\n",
       "      <th>1</th>\n",
       "      <td>2016-01-06 01:00:00</td>\n",
       "      <td>1.171</td>\n",
       "      <td>2</td>\n",
       "      <td>weekday</td>\n",
       "    </tr>\n",
       "    <tr>\n",
       "      <th>2</th>\n",
       "      <td>2016-01-06 02:00:00</td>\n",
       "      <td>0.560</td>\n",
       "      <td>2</td>\n",
       "      <td>weekday</td>\n",
       "    </tr>\n",
       "    <tr>\n",
       "      <th>3</th>\n",
       "      <td>2016-01-06 03:00:00</td>\n",
       "      <td>0.828</td>\n",
       "      <td>2</td>\n",
       "      <td>weekday</td>\n",
       "    </tr>\n",
       "    <tr>\n",
       "      <th>4</th>\n",
       "      <td>2016-01-06 04:00:00</td>\n",
       "      <td>0.932</td>\n",
       "      <td>2</td>\n",
       "      <td>weekday</td>\n",
       "    </tr>\n",
       "  </tbody>\n",
       "</table>\n",
       "</div>"
      ],
      "text/plain": [
       "             StartDate  Value (kWh)  day_of_week    notes\n",
       "0  2016-01-06 00:00:00        1.057            2  weekday\n",
       "1  2016-01-06 01:00:00        1.171            2  weekday\n",
       "2  2016-01-06 02:00:00        0.560            2  weekday\n",
       "3  2016-01-06 03:00:00        0.828            2  weekday\n",
       "4  2016-01-06 04:00:00        0.932            2  weekday"
      ]
     },
     "execution_count": 62,
     "metadata": {},
     "output_type": "execute_result"
    }
   ],
   "source": [
    "df.head()"
   ]
  },
  {
   "cell_type": "code",
   "execution_count": 63,
   "metadata": {},
   "outputs": [],
   "source": [
    "df[\"StartDate\"] = pd.to_datetime(df.StartDate)"
   ]
  },
  {
   "cell_type": "code",
   "execution_count": 64,
   "metadata": {},
   "outputs": [],
   "source": [
    "start_date_series = df[\"StartDate\"]"
   ]
  },
  {
   "cell_type": "code",
   "execution_count": 65,
   "metadata": {},
   "outputs": [
    {
     "name": "stdout",
     "output_type": "stream",
     "text": [
      "<class 'pandas.core.frame.DataFrame'>\n",
      "RangeIndex: 35952 entries, 0 to 35951\n",
      "Data columns (total 1 columns):\n",
      " #   Column     Non-Null Count  Dtype         \n",
      "---  ------     --------------  -----         \n",
      " 0   StartDate  35952 non-null  datetime64[ns]\n",
      "dtypes: datetime64[ns](1)\n",
      "memory usage: 281.0 KB\n"
     ]
    }
   ],
   "source": [
    "date_df = pd.DataFrame(start_date_series)\n",
    "date_df.info()"
   ]
  },
  {
   "cell_type": "code",
   "execution_count": 66,
   "metadata": {},
   "outputs": [
    {
     "name": "stdout",
     "output_type": "stream",
     "text": [
      "<class 'pandas.core.frame.DataFrame'>\n",
      "RangeIndex: 35952 entries, 0 to 35951\n",
      "Data columns (total 4 columns):\n",
      " #   Column       Non-Null Count  Dtype         \n",
      "---  ------       --------------  -----         \n",
      " 0   StartDate    35952 non-null  datetime64[ns]\n",
      " 1   Value (kWh)  35952 non-null  float64       \n",
      " 2   day_of_week  35952 non-null  int64         \n",
      " 3   notes        35952 non-null  object        \n",
      "dtypes: datetime64[ns](1), float64(1), int64(1), object(1)\n",
      "memory usage: 1.1+ MB\n"
     ]
    }
   ],
   "source": [
    "df.info()"
   ]
  },
  {
   "cell_type": "code",
   "execution_count": 67,
   "metadata": {},
   "outputs": [],
   "source": [
    "df.set_index(\"StartDate\", inplace=True)"
   ]
  },
  {
   "cell_type": "code",
   "execution_count": 68,
   "metadata": {},
   "outputs": [
    {
     "data": {
      "text/html": [
       "<div>\n",
       "<style scoped>\n",
       "    .dataframe tbody tr th:only-of-type {\n",
       "        vertical-align: middle;\n",
       "    }\n",
       "\n",
       "    .dataframe tbody tr th {\n",
       "        vertical-align: top;\n",
       "    }\n",
       "\n",
       "    .dataframe thead th {\n",
       "        text-align: right;\n",
       "    }\n",
       "</style>\n",
       "<table border=\"1\" class=\"dataframe\">\n",
       "  <thead>\n",
       "    <tr style=\"text-align: right;\">\n",
       "      <th></th>\n",
       "      <th>Value (kWh)</th>\n",
       "      <th>day_of_week</th>\n",
       "      <th>notes</th>\n",
       "    </tr>\n",
       "    <tr>\n",
       "      <th>StartDate</th>\n",
       "      <th></th>\n",
       "      <th></th>\n",
       "      <th></th>\n",
       "    </tr>\n",
       "  </thead>\n",
       "  <tbody>\n",
       "    <tr>\n",
       "      <th>2016-01-06 00:00:00</th>\n",
       "      <td>1.057</td>\n",
       "      <td>2</td>\n",
       "      <td>weekday</td>\n",
       "    </tr>\n",
       "    <tr>\n",
       "      <th>2016-01-06 01:00:00</th>\n",
       "      <td>1.171</td>\n",
       "      <td>2</td>\n",
       "      <td>weekday</td>\n",
       "    </tr>\n",
       "    <tr>\n",
       "      <th>2016-01-06 02:00:00</th>\n",
       "      <td>0.560</td>\n",
       "      <td>2</td>\n",
       "      <td>weekday</td>\n",
       "    </tr>\n",
       "    <tr>\n",
       "      <th>2016-01-06 03:00:00</th>\n",
       "      <td>0.828</td>\n",
       "      <td>2</td>\n",
       "      <td>weekday</td>\n",
       "    </tr>\n",
       "    <tr>\n",
       "      <th>2016-01-06 04:00:00</th>\n",
       "      <td>0.932</td>\n",
       "      <td>2</td>\n",
       "      <td>weekday</td>\n",
       "    </tr>\n",
       "    <tr>\n",
       "      <th>...</th>\n",
       "      <td>...</td>\n",
       "      <td>...</td>\n",
       "      <td>...</td>\n",
       "    </tr>\n",
       "    <tr>\n",
       "      <th>2020-07-07 19:00:00</th>\n",
       "      <td>1.307</td>\n",
       "      <td>1</td>\n",
       "      <td>weekday</td>\n",
       "    </tr>\n",
       "    <tr>\n",
       "      <th>2020-07-07 20:00:00</th>\n",
       "      <td>2.872</td>\n",
       "      <td>1</td>\n",
       "      <td>weekday</td>\n",
       "    </tr>\n",
       "    <tr>\n",
       "      <th>2020-07-07 21:00:00</th>\n",
       "      <td>2.138</td>\n",
       "      <td>1</td>\n",
       "      <td>weekday</td>\n",
       "    </tr>\n",
       "    <tr>\n",
       "      <th>2020-07-07 22:00:00</th>\n",
       "      <td>2.199</td>\n",
       "      <td>1</td>\n",
       "      <td>weekday</td>\n",
       "    </tr>\n",
       "    <tr>\n",
       "      <th>2020-07-07 23:00:00</th>\n",
       "      <td>1.809</td>\n",
       "      <td>1</td>\n",
       "      <td>weekday</td>\n",
       "    </tr>\n",
       "  </tbody>\n",
       "</table>\n",
       "<p>35952 rows × 3 columns</p>\n",
       "</div>"
      ],
      "text/plain": [
       "                     Value (kWh)  day_of_week    notes\n",
       "StartDate                                             \n",
       "2016-01-06 00:00:00        1.057            2  weekday\n",
       "2016-01-06 01:00:00        1.171            2  weekday\n",
       "2016-01-06 02:00:00        0.560            2  weekday\n",
       "2016-01-06 03:00:00        0.828            2  weekday\n",
       "2016-01-06 04:00:00        0.932            2  weekday\n",
       "...                          ...          ...      ...\n",
       "2020-07-07 19:00:00        1.307            1  weekday\n",
       "2020-07-07 20:00:00        2.872            1  weekday\n",
       "2020-07-07 21:00:00        2.138            1  weekday\n",
       "2020-07-07 22:00:00        2.199            1  weekday\n",
       "2020-07-07 23:00:00        1.809            1  weekday\n",
       "\n",
       "[35952 rows x 3 columns]"
      ]
     },
     "execution_count": 68,
     "metadata": {},
     "output_type": "execute_result"
    }
   ],
   "source": [
    "df"
   ]
  },
  {
   "cell_type": "code",
   "execution_count": 69,
   "metadata": {},
   "outputs": [],
   "source": [
    "dummies = pd.get_dummies(df.notes)"
   ]
  },
  {
   "cell_type": "code",
   "execution_count": 70,
   "metadata": {},
   "outputs": [],
   "source": [
    "df = pd.concat([df[[\"Value (kWh)\", \"day_of_week\"]], dummies], axis=1)"
   ]
  },
  {
   "cell_type": "code",
   "execution_count": 71,
   "metadata": {},
   "outputs": [
    {
     "name": "stdout",
     "output_type": "stream",
     "text": [
      "<class 'pandas.core.frame.DataFrame'>\n",
      "DatetimeIndex: 35952 entries, 2016-01-06 00:00:00 to 2020-07-07 23:00:00\n",
      "Data columns (total 6 columns):\n",
      " #   Column          Non-Null Count  Dtype  \n",
      "---  ------          --------------  -----  \n",
      " 0   Value (kWh)     35952 non-null  float64\n",
      " 1   day_of_week     35952 non-null  int64  \n",
      " 2   COVID_lockdown  35952 non-null  uint8  \n",
      " 3   vacation        35952 non-null  uint8  \n",
      " 4   weekday         35952 non-null  uint8  \n",
      " 5   weekend         35952 non-null  uint8  \n",
      "dtypes: float64(1), int64(1), uint8(4)\n",
      "memory usage: 983.1 KB\n"
     ]
    }
   ],
   "source": [
    "df.info()"
   ]
  },
  {
   "cell_type": "code",
   "execution_count": 72,
   "metadata": {},
   "outputs": [],
   "source": [
    "scaler = MinMaxScaler() \n",
    "data_scaled = scaler.fit_transform(df[[\"Value (kWh)\", \"day_of_week\"]])\n",
    "data_s = pd.DataFrame(data_scaled, columns=[\"Value (kWh)\", \"day_of_week\"])"
   ]
  },
  {
   "cell_type": "code",
   "execution_count": 73,
   "metadata": {},
   "outputs": [
    {
     "name": "stdout",
     "output_type": "stream",
     "text": [
      "<class 'pandas.core.frame.DataFrame'>\n",
      "RangeIndex: 35952 entries, 0 to 35951\n",
      "Data columns (total 2 columns):\n",
      " #   Column       Non-Null Count  Dtype  \n",
      "---  ------       --------------  -----  \n",
      " 0   Value (kWh)  35952 non-null  float64\n",
      " 1   day_of_week  35952 non-null  float64\n",
      "dtypes: float64(2)\n",
      "memory usage: 561.9 KB\n"
     ]
    }
   ],
   "source": [
    "data_s.info()"
   ]
  },
  {
   "cell_type": "code",
   "execution_count": 74,
   "metadata": {},
   "outputs": [
    {
     "name": "stdout",
     "output_type": "stream",
     "text": [
      "<class 'pandas.core.frame.DataFrame'>\n",
      "RangeIndex: 35952 entries, 0 to 35951\n",
      "Data columns (total 3 columns):\n",
      " #   Column       Non-Null Count  Dtype         \n",
      "---  ------       --------------  -----         \n",
      " 0   Value (kWh)  35952 non-null  float64       \n",
      " 1   day_of_week  35952 non-null  float64       \n",
      " 2   StartDate    35952 non-null  datetime64[ns]\n",
      "dtypes: datetime64[ns](1), float64(2)\n",
      "memory usage: 842.8 KB\n"
     ]
    }
   ],
   "source": [
    "scaled = pd.concat([data_s, date_df], axis=1)\n",
    "scaled.info()"
   ]
  },
  {
   "cell_type": "code",
   "execution_count": 75,
   "metadata": {},
   "outputs": [
    {
     "data": {
      "text/html": [
       "<div>\n",
       "<style scoped>\n",
       "    .dataframe tbody tr th:only-of-type {\n",
       "        vertical-align: middle;\n",
       "    }\n",
       "\n",
       "    .dataframe tbody tr th {\n",
       "        vertical-align: top;\n",
       "    }\n",
       "\n",
       "    .dataframe thead th {\n",
       "        text-align: right;\n",
       "    }\n",
       "</style>\n",
       "<table border=\"1\" class=\"dataframe\">\n",
       "  <thead>\n",
       "    <tr style=\"text-align: right;\">\n",
       "      <th></th>\n",
       "      <th>Value (kWh)</th>\n",
       "      <th>day_of_week</th>\n",
       "    </tr>\n",
       "    <tr>\n",
       "      <th>StartDate</th>\n",
       "      <th></th>\n",
       "      <th></th>\n",
       "    </tr>\n",
       "  </thead>\n",
       "  <tbody>\n",
       "    <tr>\n",
       "      <th>2016-01-06 00:00:00</th>\n",
       "      <td>0.155594</td>\n",
       "      <td>0.333333</td>\n",
       "    </tr>\n",
       "    <tr>\n",
       "      <th>2016-01-06 01:00:00</th>\n",
       "      <td>0.173457</td>\n",
       "      <td>0.333333</td>\n",
       "    </tr>\n",
       "    <tr>\n",
       "      <th>2016-01-06 02:00:00</th>\n",
       "      <td>0.077719</td>\n",
       "      <td>0.333333</td>\n",
       "    </tr>\n",
       "    <tr>\n",
       "      <th>2016-01-06 03:00:00</th>\n",
       "      <td>0.119712</td>\n",
       "      <td>0.333333</td>\n",
       "    </tr>\n",
       "    <tr>\n",
       "      <th>2016-01-06 04:00:00</th>\n",
       "      <td>0.136008</td>\n",
       "      <td>0.333333</td>\n",
       "    </tr>\n",
       "    <tr>\n",
       "      <th>...</th>\n",
       "      <td>...</td>\n",
       "      <td>...</td>\n",
       "    </tr>\n",
       "    <tr>\n",
       "      <th>2020-07-07 19:00:00</th>\n",
       "      <td>0.194767</td>\n",
       "      <td>0.166667</td>\n",
       "    </tr>\n",
       "    <tr>\n",
       "      <th>2020-07-07 20:00:00</th>\n",
       "      <td>0.439987</td>\n",
       "      <td>0.166667</td>\n",
       "    </tr>\n",
       "    <tr>\n",
       "      <th>2020-07-07 21:00:00</th>\n",
       "      <td>0.324976</td>\n",
       "      <td>0.166667</td>\n",
       "    </tr>\n",
       "    <tr>\n",
       "      <th>2020-07-07 22:00:00</th>\n",
       "      <td>0.334535</td>\n",
       "      <td>0.166667</td>\n",
       "    </tr>\n",
       "    <tr>\n",
       "      <th>2020-07-07 23:00:00</th>\n",
       "      <td>0.273425</td>\n",
       "      <td>0.166667</td>\n",
       "    </tr>\n",
       "  </tbody>\n",
       "</table>\n",
       "<p>35952 rows × 2 columns</p>\n",
       "</div>"
      ],
      "text/plain": [
       "                     Value (kWh)  day_of_week\n",
       "StartDate                                    \n",
       "2016-01-06 00:00:00     0.155594     0.333333\n",
       "2016-01-06 01:00:00     0.173457     0.333333\n",
       "2016-01-06 02:00:00     0.077719     0.333333\n",
       "2016-01-06 03:00:00     0.119712     0.333333\n",
       "2016-01-06 04:00:00     0.136008     0.333333\n",
       "...                          ...          ...\n",
       "2020-07-07 19:00:00     0.194767     0.166667\n",
       "2020-07-07 20:00:00     0.439987     0.166667\n",
       "2020-07-07 21:00:00     0.324976     0.166667\n",
       "2020-07-07 22:00:00     0.334535     0.166667\n",
       "2020-07-07 23:00:00     0.273425     0.166667\n",
       "\n",
       "[35952 rows x 2 columns]"
      ]
     },
     "execution_count": 75,
     "metadata": {},
     "output_type": "execute_result"
    }
   ],
   "source": [
    "scaled.set_index(\"StartDate\", inplace=True)\n",
    "scaled"
   ]
  },
  {
   "cell_type": "code",
   "execution_count": 76,
   "metadata": {},
   "outputs": [],
   "source": [
    "ready_df = pd.concat([scaled, df[[\"weekend\", \"weekday\", \"vacation\", \"COVID_lockdown\"]]], axis=1)"
   ]
  },
  {
   "cell_type": "code",
   "execution_count": 77,
   "metadata": {},
   "outputs": [
    {
     "name": "stdout",
     "output_type": "stream",
     "text": [
      "<class 'pandas.core.frame.DataFrame'>\n",
      "DatetimeIndex: 35952 entries, 2016-01-06 00:00:00 to 2020-07-07 23:00:00\n",
      "Data columns (total 6 columns):\n",
      " #   Column          Non-Null Count  Dtype  \n",
      "---  ------          --------------  -----  \n",
      " 0   Value (kWh)     35952 non-null  float64\n",
      " 1   day_of_week     35952 non-null  float64\n",
      " 2   weekend         35952 non-null  uint8  \n",
      " 3   weekday         35952 non-null  uint8  \n",
      " 4   vacation        35952 non-null  uint8  \n",
      " 5   COVID_lockdown  35952 non-null  uint8  \n",
      "dtypes: float64(2), uint8(4)\n",
      "memory usage: 983.1 KB\n"
     ]
    }
   ],
   "source": [
    "ready_df.info()"
   ]
  },
  {
   "cell_type": "code",
   "execution_count": 78,
   "metadata": {},
   "outputs": [
    {
     "data": {
      "text/html": [
       "<div>\n",
       "<style scoped>\n",
       "    .dataframe tbody tr th:only-of-type {\n",
       "        vertical-align: middle;\n",
       "    }\n",
       "\n",
       "    .dataframe tbody tr th {\n",
       "        vertical-align: top;\n",
       "    }\n",
       "\n",
       "    .dataframe thead th {\n",
       "        text-align: right;\n",
       "    }\n",
       "</style>\n",
       "<table border=\"1\" class=\"dataframe\">\n",
       "  <thead>\n",
       "    <tr style=\"text-align: right;\">\n",
       "      <th></th>\n",
       "      <th>Value (kWh)</th>\n",
       "      <th>day_of_week</th>\n",
       "      <th>weekend</th>\n",
       "      <th>weekday</th>\n",
       "      <th>vacation</th>\n",
       "      <th>COVID_lockdown</th>\n",
       "    </tr>\n",
       "    <tr>\n",
       "      <th>StartDate</th>\n",
       "      <th></th>\n",
       "      <th></th>\n",
       "      <th></th>\n",
       "      <th></th>\n",
       "      <th></th>\n",
       "      <th></th>\n",
       "    </tr>\n",
       "  </thead>\n",
       "  <tbody>\n",
       "    <tr>\n",
       "      <th>2016-01-06 00:00:00</th>\n",
       "      <td>0.155594</td>\n",
       "      <td>0.333333</td>\n",
       "      <td>0</td>\n",
       "      <td>1</td>\n",
       "      <td>0</td>\n",
       "      <td>0</td>\n",
       "    </tr>\n",
       "    <tr>\n",
       "      <th>2016-01-06 01:00:00</th>\n",
       "      <td>0.173457</td>\n",
       "      <td>0.333333</td>\n",
       "      <td>0</td>\n",
       "      <td>1</td>\n",
       "      <td>0</td>\n",
       "      <td>0</td>\n",
       "    </tr>\n",
       "    <tr>\n",
       "      <th>2016-01-06 02:00:00</th>\n",
       "      <td>0.077719</td>\n",
       "      <td>0.333333</td>\n",
       "      <td>0</td>\n",
       "      <td>1</td>\n",
       "      <td>0</td>\n",
       "      <td>0</td>\n",
       "    </tr>\n",
       "    <tr>\n",
       "      <th>2016-01-06 03:00:00</th>\n",
       "      <td>0.119712</td>\n",
       "      <td>0.333333</td>\n",
       "      <td>0</td>\n",
       "      <td>1</td>\n",
       "      <td>0</td>\n",
       "      <td>0</td>\n",
       "    </tr>\n",
       "    <tr>\n",
       "      <th>2016-01-06 04:00:00</th>\n",
       "      <td>0.136008</td>\n",
       "      <td>0.333333</td>\n",
       "      <td>0</td>\n",
       "      <td>1</td>\n",
       "      <td>0</td>\n",
       "      <td>0</td>\n",
       "    </tr>\n",
       "    <tr>\n",
       "      <th>...</th>\n",
       "      <td>...</td>\n",
       "      <td>...</td>\n",
       "      <td>...</td>\n",
       "      <td>...</td>\n",
       "      <td>...</td>\n",
       "      <td>...</td>\n",
       "    </tr>\n",
       "    <tr>\n",
       "      <th>2020-07-07 19:00:00</th>\n",
       "      <td>0.194767</td>\n",
       "      <td>0.166667</td>\n",
       "      <td>0</td>\n",
       "      <td>1</td>\n",
       "      <td>0</td>\n",
       "      <td>0</td>\n",
       "    </tr>\n",
       "    <tr>\n",
       "      <th>2020-07-07 20:00:00</th>\n",
       "      <td>0.439987</td>\n",
       "      <td>0.166667</td>\n",
       "      <td>0</td>\n",
       "      <td>1</td>\n",
       "      <td>0</td>\n",
       "      <td>0</td>\n",
       "    </tr>\n",
       "    <tr>\n",
       "      <th>2020-07-07 21:00:00</th>\n",
       "      <td>0.324976</td>\n",
       "      <td>0.166667</td>\n",
       "      <td>0</td>\n",
       "      <td>1</td>\n",
       "      <td>0</td>\n",
       "      <td>0</td>\n",
       "    </tr>\n",
       "    <tr>\n",
       "      <th>2020-07-07 22:00:00</th>\n",
       "      <td>0.334535</td>\n",
       "      <td>0.166667</td>\n",
       "      <td>0</td>\n",
       "      <td>1</td>\n",
       "      <td>0</td>\n",
       "      <td>0</td>\n",
       "    </tr>\n",
       "    <tr>\n",
       "      <th>2020-07-07 23:00:00</th>\n",
       "      <td>0.273425</td>\n",
       "      <td>0.166667</td>\n",
       "      <td>0</td>\n",
       "      <td>1</td>\n",
       "      <td>0</td>\n",
       "      <td>0</td>\n",
       "    </tr>\n",
       "  </tbody>\n",
       "</table>\n",
       "<p>35952 rows × 6 columns</p>\n",
       "</div>"
      ],
      "text/plain": [
       "                     Value (kWh)  day_of_week  weekend  weekday  vacation  \\\n",
       "StartDate                                                                   \n",
       "2016-01-06 00:00:00     0.155594     0.333333        0        1         0   \n",
       "2016-01-06 01:00:00     0.173457     0.333333        0        1         0   \n",
       "2016-01-06 02:00:00     0.077719     0.333333        0        1         0   \n",
       "2016-01-06 03:00:00     0.119712     0.333333        0        1         0   \n",
       "2016-01-06 04:00:00     0.136008     0.333333        0        1         0   \n",
       "...                          ...          ...      ...      ...       ...   \n",
       "2020-07-07 19:00:00     0.194767     0.166667        0        1         0   \n",
       "2020-07-07 20:00:00     0.439987     0.166667        0        1         0   \n",
       "2020-07-07 21:00:00     0.324976     0.166667        0        1         0   \n",
       "2020-07-07 22:00:00     0.334535     0.166667        0        1         0   \n",
       "2020-07-07 23:00:00     0.273425     0.166667        0        1         0   \n",
       "\n",
       "                     COVID_lockdown  \n",
       "StartDate                            \n",
       "2016-01-06 00:00:00               0  \n",
       "2016-01-06 01:00:00               0  \n",
       "2016-01-06 02:00:00               0  \n",
       "2016-01-06 03:00:00               0  \n",
       "2016-01-06 04:00:00               0  \n",
       "...                             ...  \n",
       "2020-07-07 19:00:00               0  \n",
       "2020-07-07 20:00:00               0  \n",
       "2020-07-07 21:00:00               0  \n",
       "2020-07-07 22:00:00               0  \n",
       "2020-07-07 23:00:00               0  \n",
       "\n",
       "[35952 rows x 6 columns]"
      ]
     },
     "execution_count": 78,
     "metadata": {},
     "output_type": "execute_result"
    }
   ],
   "source": [
    "ready_df"
   ]
  },
  {
   "attachments": {},
   "cell_type": "markdown",
   "metadata": {},
   "source": [
    "Comment to myself: Day of weeks needs dummies"
   ]
  },
  {
   "cell_type": "code",
   "execution_count": 79,
   "metadata": {},
   "outputs": [],
   "source": [
    "energy_data_all = ready_df[[\"Value (kWh)\", \"weekend\", \"weekday\", \"vacation\", \"COVID_lockdown\"]].to_numpy()\n",
    "energy_data = ready_df[[\"Value (kWh)\"]].to_numpy()"
   ]
  },
  {
   "attachments": {},
   "cell_type": "markdown",
   "metadata": {},
   "source": [
    "### Data preparation"
   ]
  },
  {
   "cell_type": "code",
   "execution_count": 84,
   "metadata": {},
   "outputs": [
    {
     "name": "stdout",
     "output_type": "stream",
     "text": [
      "Training length: 21139\n"
     ]
    }
   ],
   "source": [
    "# Split the data into sequences for lstm input\n",
    "sequence_length = 24*30 # To take a months data into consideration to predict future value \n",
    "sequence_data = []\n",
    "sequence_labels = []\n",
    "for i in range(len(energy_data) - sequence_length):\n",
    "    sequence_data.append(energy_data[i:i+sequence_length])\n",
    "    sequence_labels.append(energy_data[i+sequence_length])\n",
    "sequence_data = np.array(sequence_data)\n",
    "sequence_labels = np.array(sequence_labels)\n",
    "\n",
    "training_ratio = int(.6*len(sequence_data))\n",
    "print(\"Training length:\", training_ratio)\n",
    "\n",
    "train_data = sequence_data[:training_ratio]\n",
    "train_labels = sequence_labels[:training_ratio]\n",
    "test_data = sequence_data[training_ratio:]\n",
    "test_labels = sequence_labels[training_ratio:]"
   ]
  },
  {
   "cell_type": "code",
   "execution_count": 85,
   "metadata": {},
   "outputs": [],
   "source": [
    "# Split the data into training and testing sets\n",
    "train_data = TensorDataset(torch.from_numpy(train_data), torch.from_numpy(train_labels))\n",
    "test_data = TensorDataset(torch.from_numpy(test_data), torch.from_numpy(test_labels))\n",
    "\n",
    "train_loader = DataLoader(train_data, batch_size=64, shuffle=True)\n",
    "test_loader = DataLoader(test_data, batch_size=64, shuffle=False)"
   ]
  },
  {
   "attachments": {},
   "cell_type": "markdown",
   "metadata": {},
   "source": [
    "### Create Neural network"
   ]
  },
  {
   "cell_type": "code",
   "execution_count": 86,
   "metadata": {},
   "outputs": [],
   "source": [
    "# Initialize the LSTM model\n",
    "input_size = 1\n",
    "hidden_size = 6\n",
    "output_size = 1\n",
    "learning_rate = 0.01\n",
    "\n",
    "# 1. Creating an LSTM model\n",
    "lstm = torch.nn.LSTM(input_size, hidden_size, batch_first=True)\n",
    "fc = torch.nn.Linear(hidden_size, output_size)\n",
    "\n",
    "criterion = torch.nn.MSELoss()\n",
    "optimizer = optim.SGD(lstm.parameters(), lr=learning_rate)"
   ]
  },
  {
   "attachments": {},
   "cell_type": "markdown",
   "metadata": {},
   "source": [
    "### Training loop"
   ]
  },
  {
   "cell_type": "code",
   "execution_count": 89,
   "metadata": {},
   "outputs": [
    {
     "name": "stdout",
     "output_type": "stream",
     "text": [
      "Epoch [1/100], Step [100/331], Loss: 0.0661\n",
      "Epoch [1/100], Step [200/331], Loss: 0.0624\n",
      "Epoch [1/100], Step [300/331], Loss: 0.0216\n",
      "Epoch [2/100], Step [100/331], Loss: 0.0164\n",
      "Epoch [2/100], Step [200/331], Loss: 0.0253\n",
      "Epoch [2/100], Step [300/331], Loss: 0.0237\n",
      "Epoch [3/100], Step [100/331], Loss: 0.0216\n",
      "Epoch [3/100], Step [200/331], Loss: 0.0203\n",
      "Epoch [3/100], Step [300/331], Loss: 0.0325\n",
      "Epoch [4/100], Step [100/331], Loss: 0.0216\n",
      "Epoch [4/100], Step [200/331], Loss: 0.0226\n",
      "Epoch [4/100], Step [300/331], Loss: 0.0248\n",
      "Epoch [5/100], Step [100/331], Loss: 0.0106\n",
      "Epoch [5/100], Step [200/331], Loss: 0.0318\n",
      "Epoch [5/100], Step [300/331], Loss: 0.0226\n",
      "Epoch [6/100], Step [100/331], Loss: 0.0180\n",
      "Epoch [6/100], Step [200/331], Loss: 0.0399\n",
      "Epoch [6/100], Step [300/331], Loss: 0.0233\n",
      "Epoch [7/100], Step [100/331], Loss: 0.0176\n",
      "Epoch [7/100], Step [200/331], Loss: 0.0211\n",
      "Epoch [7/100], Step [300/331], Loss: 0.0189\n",
      "Epoch [8/100], Step [100/331], Loss: 0.0270\n",
      "Epoch [8/100], Step [200/331], Loss: 0.0198\n",
      "Epoch [8/100], Step [300/331], Loss: 0.0185\n",
      "Epoch [9/100], Step [100/331], Loss: 0.0278\n",
      "Epoch [9/100], Step [200/331], Loss: 0.0236\n",
      "Epoch [9/100], Step [300/331], Loss: 0.0221\n",
      "Epoch [10/100], Step [100/331], Loss: 0.0251\n",
      "Epoch [10/100], Step [200/331], Loss: 0.0112\n",
      "Epoch [10/100], Step [300/331], Loss: 0.0197\n",
      "Epoch [11/100], Step [100/331], Loss: 0.0338\n",
      "Epoch [11/100], Step [200/331], Loss: 0.0353\n",
      "Epoch [11/100], Step [300/331], Loss: 0.0285\n",
      "Epoch [12/100], Step [100/331], Loss: 0.0149\n",
      "Epoch [12/100], Step [200/331], Loss: 0.0139\n",
      "Epoch [12/100], Step [300/331], Loss: 0.0264\n",
      "Epoch [13/100], Step [100/331], Loss: 0.0163\n",
      "Epoch [13/100], Step [200/331], Loss: 0.0212\n",
      "Epoch [13/100], Step [300/331], Loss: 0.0223\n",
      "Epoch [14/100], Step [100/331], Loss: 0.0069\n",
      "Epoch [14/100], Step [200/331], Loss: 0.0345\n",
      "Epoch [14/100], Step [300/331], Loss: 0.0190\n",
      "Epoch [15/100], Step [100/331], Loss: 0.0135\n",
      "Epoch [15/100], Step [200/331], Loss: 0.0114\n",
      "Epoch [15/100], Step [300/331], Loss: 0.0184\n",
      "Epoch [16/100], Step [100/331], Loss: 0.0182\n",
      "Epoch [16/100], Step [200/331], Loss: 0.0206\n",
      "Epoch [16/100], Step [300/331], Loss: 0.0248\n",
      "Epoch [17/100], Step [100/331], Loss: 0.0197\n",
      "Epoch [17/100], Step [200/331], Loss: 0.0296\n",
      "Epoch [17/100], Step [300/331], Loss: 0.0105\n",
      "Epoch [18/100], Step [100/331], Loss: 0.0143\n",
      "Epoch [18/100], Step [200/331], Loss: 0.0212\n",
      "Epoch [18/100], Step [300/331], Loss: 0.0143\n"
     ]
    },
    {
     "ename": "KeyboardInterrupt",
     "evalue": "",
     "output_type": "error",
     "traceback": [
      "\u001b[1;31m---------------------------------------------------------------------------\u001b[0m",
      "\u001b[1;31mKeyboardInterrupt\u001b[0m                         Traceback (most recent call last)",
      "Cell \u001b[1;32mIn[89], line 24\u001b[0m\n\u001b[0;32m     21\u001b[0m loss \u001b[39m=\u001b[39m criterion(output, label\u001b[39m.\u001b[39mfloat())\n\u001b[0;32m     23\u001b[0m \u001b[39m# 3. Gradient Calculation\u001b[39;00m\n\u001b[1;32m---> 24\u001b[0m loss\u001b[39m.\u001b[39;49mbackward()\n\u001b[0;32m     26\u001b[0m \u001b[39m# 4. Back Propagation\u001b[39;00m\n\u001b[0;32m     27\u001b[0m optimizer\u001b[39m.\u001b[39mstep()\n",
      "File \u001b[1;32mc:\\Users\\nilso\\Documents\\Coding\\Data Science Class\\M3-Assignments-Deep-Learning\\this_env\\lib\\site-packages\\torch\\_tensor.py:488\u001b[0m, in \u001b[0;36mTensor.backward\u001b[1;34m(self, gradient, retain_graph, create_graph, inputs)\u001b[0m\n\u001b[0;32m    478\u001b[0m \u001b[39mif\u001b[39;00m has_torch_function_unary(\u001b[39mself\u001b[39m):\n\u001b[0;32m    479\u001b[0m     \u001b[39mreturn\u001b[39;00m handle_torch_function(\n\u001b[0;32m    480\u001b[0m         Tensor\u001b[39m.\u001b[39mbackward,\n\u001b[0;32m    481\u001b[0m         (\u001b[39mself\u001b[39m,),\n\u001b[1;32m   (...)\u001b[0m\n\u001b[0;32m    486\u001b[0m         inputs\u001b[39m=\u001b[39minputs,\n\u001b[0;32m    487\u001b[0m     )\n\u001b[1;32m--> 488\u001b[0m torch\u001b[39m.\u001b[39;49mautograd\u001b[39m.\u001b[39;49mbackward(\n\u001b[0;32m    489\u001b[0m     \u001b[39mself\u001b[39;49m, gradient, retain_graph, create_graph, inputs\u001b[39m=\u001b[39;49minputs\n\u001b[0;32m    490\u001b[0m )\n",
      "File \u001b[1;32mc:\\Users\\nilso\\Documents\\Coding\\Data Science Class\\M3-Assignments-Deep-Learning\\this_env\\lib\\site-packages\\torch\\autograd\\__init__.py:197\u001b[0m, in \u001b[0;36mbackward\u001b[1;34m(tensors, grad_tensors, retain_graph, create_graph, grad_variables, inputs)\u001b[0m\n\u001b[0;32m    192\u001b[0m     retain_graph \u001b[39m=\u001b[39m create_graph\n\u001b[0;32m    194\u001b[0m \u001b[39m# The reason we repeat same the comment below is that\u001b[39;00m\n\u001b[0;32m    195\u001b[0m \u001b[39m# some Python versions print out the first line of a multi-line function\u001b[39;00m\n\u001b[0;32m    196\u001b[0m \u001b[39m# calls in the traceback and some print out the last line\u001b[39;00m\n\u001b[1;32m--> 197\u001b[0m Variable\u001b[39m.\u001b[39;49m_execution_engine\u001b[39m.\u001b[39;49mrun_backward(  \u001b[39m# Calls into the C++ engine to run the backward pass\u001b[39;49;00m\n\u001b[0;32m    198\u001b[0m     tensors, grad_tensors_, retain_graph, create_graph, inputs,\n\u001b[0;32m    199\u001b[0m     allow_unreachable\u001b[39m=\u001b[39;49m\u001b[39mTrue\u001b[39;49;00m, accumulate_grad\u001b[39m=\u001b[39;49m\u001b[39mTrue\u001b[39;49;00m)\n",
      "\u001b[1;31mKeyboardInterrupt\u001b[0m: "
     ]
    }
   ],
   "source": [
    "# Train the lstm model\n",
    "n_total_steps = len(train_loader)\n",
    "\n",
    "num_epochs = 100\n",
    "train_losses = []\n",
    "test_losses = []\n",
    "\n",
    "for epoch in range(num_epochs):\n",
    "    train_loss = 0\n",
    "\n",
    "    for i, (data, label) in enumerate(train_loader):\n",
    "        optimizer.zero_grad()\n",
    "\n",
    "        # Run the forward pass\n",
    "        hidden = (torch.zeros(1, data.size(0), hidden_size),\n",
    "                  torch.zeros(1, data.size(0), hidden_size))\n",
    "        output, hidden = lstm(data.float(), hidden)\n",
    "        output = fc(hidden[0][-1])\n",
    "\n",
    "        # 2. Network Evaluation\n",
    "        loss = criterion(output, label.float())\n",
    "\n",
    "        # 3. Gradient Calculation\n",
    "        loss.backward()\n",
    "\n",
    "        # 4. Back Propagation\n",
    "        optimizer.step()\n",
    "        if (i+1) % 100 == 0:\n",
    "            print (f'Epoch [{epoch+1}/{num_epochs}], Step [{i+1}/{n_total_steps}], Loss: {loss.item():.4f}')\n",
    "        train_loss += loss.item()\n",
    "\n",
    "    # Calculate the average training loss\n",
    "    train_loss = train_loss / len(train_loader)\n",
    "    train_losses.append(train_loss)\n",
    "\n",
    "# Plot the MSE loss for each epoch\n",
    "plt.plot(train_losses)\n",
    "plt.xlabel('Epoch')\n",
    "plt.ylabel('MSE Loss')\n",
    "plt.title('Training Loss over Epochs')\n",
    "plt.show()\n",
    "\n",
    "# Evaluate the lstm model\n",
    "mse = 0\n",
    "\n",
    "with torch.no_grad():\n",
    "    for data, label in test_loader:\n",
    "        hidden = (torch.zeros(1, data.size(0), hidden_size),\n",
    "                  torch.zeros(1, data.size(0), hidden_size))\n",
    "        output, hidden = lstm(data.float(), hidden)\n",
    "        output = fc(hidden[0][-1])\n",
    "\n",
    "        mse += ((output - label)**2).mean().item()\n",
    "\n",
    "mse /= len(test_loader)\n",
    "print('Test MSE: {}'.format(mse))"
   ]
  }
 ],
 "metadata": {
  "kernelspec": {
   "display_name": "this_env",
   "language": "python",
   "name": "python3"
  },
  "language_info": {
   "codemirror_mode": {
    "name": "ipython",
    "version": 3
   },
   "file_extension": ".py",
   "mimetype": "text/x-python",
   "name": "python",
   "nbconvert_exporter": "python",
   "pygments_lexer": "ipython3",
   "version": "3.10.4"
  },
  "orig_nbformat": 4,
  "vscode": {
   "interpreter": {
    "hash": "3b077f05f775978138afad4db337cd8b4b56d0eb7ba1393aa5be761b90293286"
   }
  }
 },
 "nbformat": 4,
 "nbformat_minor": 2
}
